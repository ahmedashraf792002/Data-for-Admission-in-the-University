{
 "cells": [
  {
   "cell_type": "code",
   "execution_count": 1,
   "id": "594a6abd",
   "metadata": {
    "_cell_guid": "b1076dfc-b9ad-4769-8c92-a6c4dae69d19",
    "_uuid": "8f2839f25d086af736a60e9eeb907d3b93b6e0e5",
    "execution": {
     "iopub.execute_input": "2022-11-29T13:44:00.219293Z",
     "iopub.status.busy": "2022-11-29T13:44:00.218695Z",
     "iopub.status.idle": "2022-11-29T13:44:00.241130Z",
     "shell.execute_reply": "2022-11-29T13:44:00.240257Z"
    },
    "papermill": {
     "duration": 0.045163,
     "end_time": "2022-11-29T13:44:00.243879",
     "exception": false,
     "start_time": "2022-11-29T13:44:00.198716",
     "status": "completed"
    },
    "tags": []
   },
   "outputs": [
    {
     "name": "stdout",
     "output_type": "stream",
     "text": [
      "/kaggle/input/data-for-admission-in-the-university/adm_data.csv\n"
     ]
    }
   ],
   "source": [
    "# This Python 3 environment comes with many helpful analytics libraries installed\n",
    "# It is defined by the kaggle/python Docker image: https://github.com/kaggle/docker-python\n",
    "# For example, here's several helpful packages to load\n",
    "\n",
    "import numpy as np # linear algebra\n",
    "import pandas as pd # data processing, CSV file I/O (e.g. pd.read_csv)\n",
    "\n",
    "# Input data files are available in the read-only \"../input/\" directory\n",
    "# For example, running this (by clicking run or pressing Shift+Enter) will list all files under the input directory\n",
    "\n",
    "import os\n",
    "for dirname, _, filenames in os.walk('/kaggle/input'):\n",
    "    for filename in filenames:\n",
    "        print(os.path.join(dirname, filename))\n",
    "\n",
    "# You can write up to 20GB to the current directory (/kaggle/working/) that gets preserved as output when you create a version using \"Save & Run All\" \n",
    "# You can also write temporary files to /kaggle/temp/, but they won't be saved outside of the current session"
   ]
  },
  {
   "cell_type": "markdown",
   "id": "6e4b2d91",
   "metadata": {
    "papermill": {
     "duration": 0.018442,
     "end_time": "2022-11-29T13:44:00.278969",
     "exception": false,
     "start_time": "2022-11-29T13:44:00.260527",
     "status": "completed"
    },
    "tags": []
   },
   "source": [
    "# Import Libraries"
   ]
  },
  {
   "cell_type": "code",
   "execution_count": 2,
   "id": "f3a118b1",
   "metadata": {
    "execution": {
     "iopub.execute_input": "2022-11-29T13:44:00.312417Z",
     "iopub.status.busy": "2022-11-29T13:44:00.311986Z",
     "iopub.status.idle": "2022-11-29T13:44:02.086558Z",
     "shell.execute_reply": "2022-11-29T13:44:02.085554Z"
    },
    "papermill": {
     "duration": 1.793658,
     "end_time": "2022-11-29T13:44:02.089022",
     "exception": false,
     "start_time": "2022-11-29T13:44:00.295364",
     "status": "completed"
    },
    "tags": []
   },
   "outputs": [],
   "source": [
    "import pandas as pd\n",
    "import seaborn as sns\n",
    "from sklearn.preprocessing import MinMaxScaler\n",
    "from sklearn.model_selection import train_test_split\n",
    "from sklearn.linear_model import LinearRegression\n",
    "from sklearn.ensemble import RandomForestRegressor\n",
    "import matplotlib.pyplot as plt\n",
    "from sklearn.metrics import mean_absolute_error \n",
    "from sklearn.metrics import mean_squared_error \n",
    "from sklearn.metrics import median_absolute_error\n",
    "from sklearn.neural_network import MLPRegressor\n",
    "from sklearn.tree import DecisionTreeRegressor\n",
    "from sklearn.svm import SVR\n",
    "from sklearn.neighbors import KNeighborsRegressor\n",
    "from sklearn.ensemble import GradientBoostingRegressor\n",
    "from sklearn.linear_model import SGDRegressor"
   ]
  },
  {
   "cell_type": "markdown",
   "id": "b0210783",
   "metadata": {
    "papermill": {
     "duration": 0.015424,
     "end_time": "2022-11-29T13:44:02.119672",
     "exception": false,
     "start_time": "2022-11-29T13:44:02.104248",
     "status": "completed"
    },
    "tags": []
   },
   "source": [
    "# Read data"
   ]
  },
  {
   "cell_type": "code",
   "execution_count": 3,
   "id": "ada04ce9",
   "metadata": {
    "execution": {
     "iopub.execute_input": "2022-11-29T13:44:02.153994Z",
     "iopub.status.busy": "2022-11-29T13:44:02.153597Z",
     "iopub.status.idle": "2022-11-29T13:44:02.174331Z",
     "shell.execute_reply": "2022-11-29T13:44:02.173127Z"
    },
    "papermill": {
     "duration": 0.041303,
     "end_time": "2022-11-29T13:44:02.177069",
     "exception": false,
     "start_time": "2022-11-29T13:44:02.135766",
     "status": "completed"
    },
    "tags": []
   },
   "outputs": [],
   "source": [
    "data=pd.read_csv('/kaggle/input/data-for-admission-in-the-university/adm_data.csv')"
   ]
  },
  {
   "cell_type": "markdown",
   "id": "46ef8c1f",
   "metadata": {
    "papermill": {
     "duration": 0.01522,
     "end_time": "2022-11-29T13:44:02.207994",
     "exception": false,
     "start_time": "2022-11-29T13:44:02.192774",
     "status": "completed"
    },
    "tags": []
   },
   "source": [
    "# Show 5 frist row in data"
   ]
  },
  {
   "cell_type": "code",
   "execution_count": 4,
   "id": "43054143",
   "metadata": {
    "execution": {
     "iopub.execute_input": "2022-11-29T13:44:02.241213Z",
     "iopub.status.busy": "2022-11-29T13:44:02.240597Z",
     "iopub.status.idle": "2022-11-29T13:44:02.262443Z",
     "shell.execute_reply": "2022-11-29T13:44:02.261613Z"
    },
    "papermill": {
     "duration": 0.041025,
     "end_time": "2022-11-29T13:44:02.264540",
     "exception": false,
     "start_time": "2022-11-29T13:44:02.223515",
     "status": "completed"
    },
    "tags": []
   },
   "outputs": [
    {
     "data": {
      "text/html": [
       "<div>\n",
       "<style scoped>\n",
       "    .dataframe tbody tr th:only-of-type {\n",
       "        vertical-align: middle;\n",
       "    }\n",
       "\n",
       "    .dataframe tbody tr th {\n",
       "        vertical-align: top;\n",
       "    }\n",
       "\n",
       "    .dataframe thead th {\n",
       "        text-align: right;\n",
       "    }\n",
       "</style>\n",
       "<table border=\"1\" class=\"dataframe\">\n",
       "  <thead>\n",
       "    <tr style=\"text-align: right;\">\n",
       "      <th></th>\n",
       "      <th>Serial No.</th>\n",
       "      <th>GRE Score</th>\n",
       "      <th>TOEFL Score</th>\n",
       "      <th>University Rating</th>\n",
       "      <th>SOP</th>\n",
       "      <th>LOR</th>\n",
       "      <th>CGPA</th>\n",
       "      <th>Research</th>\n",
       "      <th>Chance of Admit</th>\n",
       "    </tr>\n",
       "  </thead>\n",
       "  <tbody>\n",
       "    <tr>\n",
       "      <th>0</th>\n",
       "      <td>1</td>\n",
       "      <td>337</td>\n",
       "      <td>118</td>\n",
       "      <td>4</td>\n",
       "      <td>4.5</td>\n",
       "      <td>4.5</td>\n",
       "      <td>9.65</td>\n",
       "      <td>1</td>\n",
       "      <td>0.92</td>\n",
       "    </tr>\n",
       "    <tr>\n",
       "      <th>1</th>\n",
       "      <td>2</td>\n",
       "      <td>324</td>\n",
       "      <td>107</td>\n",
       "      <td>4</td>\n",
       "      <td>4.0</td>\n",
       "      <td>4.5</td>\n",
       "      <td>8.87</td>\n",
       "      <td>1</td>\n",
       "      <td>0.76</td>\n",
       "    </tr>\n",
       "    <tr>\n",
       "      <th>2</th>\n",
       "      <td>3</td>\n",
       "      <td>316</td>\n",
       "      <td>104</td>\n",
       "      <td>3</td>\n",
       "      <td>3.0</td>\n",
       "      <td>3.5</td>\n",
       "      <td>8.00</td>\n",
       "      <td>1</td>\n",
       "      <td>0.72</td>\n",
       "    </tr>\n",
       "    <tr>\n",
       "      <th>3</th>\n",
       "      <td>4</td>\n",
       "      <td>322</td>\n",
       "      <td>110</td>\n",
       "      <td>3</td>\n",
       "      <td>3.5</td>\n",
       "      <td>2.5</td>\n",
       "      <td>8.67</td>\n",
       "      <td>1</td>\n",
       "      <td>0.80</td>\n",
       "    </tr>\n",
       "    <tr>\n",
       "      <th>4</th>\n",
       "      <td>5</td>\n",
       "      <td>314</td>\n",
       "      <td>103</td>\n",
       "      <td>2</td>\n",
       "      <td>2.0</td>\n",
       "      <td>3.0</td>\n",
       "      <td>8.21</td>\n",
       "      <td>0</td>\n",
       "      <td>0.65</td>\n",
       "    </tr>\n",
       "  </tbody>\n",
       "</table>\n",
       "</div>"
      ],
      "text/plain": [
       "   Serial No.  GRE Score  TOEFL Score  University Rating  SOP  LOR   CGPA  \\\n",
       "0           1        337          118                  4  4.5   4.5  9.65   \n",
       "1           2        324          107                  4  4.0   4.5  8.87   \n",
       "2           3        316          104                  3  3.0   3.5  8.00   \n",
       "3           4        322          110                  3  3.5   2.5  8.67   \n",
       "4           5        314          103                  2  2.0   3.0  8.21   \n",
       "\n",
       "   Research  Chance of Admit   \n",
       "0         1              0.92  \n",
       "1         1              0.76  \n",
       "2         1              0.72  \n",
       "3         1              0.80  \n",
       "4         0              0.65  "
      ]
     },
     "execution_count": 4,
     "metadata": {},
     "output_type": "execute_result"
    }
   ],
   "source": [
    "data.head()"
   ]
  },
  {
   "cell_type": "markdown",
   "id": "0458d32b",
   "metadata": {
    "papermill": {
     "duration": 0.015632,
     "end_time": "2022-11-29T13:44:02.295587",
     "exception": false,
     "start_time": "2022-11-29T13:44:02.279955",
     "status": "completed"
    },
    "tags": []
   },
   "source": [
    "# Show data columns"
   ]
  },
  {
   "cell_type": "code",
   "execution_count": 5,
   "id": "b793c854",
   "metadata": {
    "execution": {
     "iopub.execute_input": "2022-11-29T13:44:02.328492Z",
     "iopub.status.busy": "2022-11-29T13:44:02.327723Z",
     "iopub.status.idle": "2022-11-29T13:44:02.334156Z",
     "shell.execute_reply": "2022-11-29T13:44:02.332478Z"
    },
    "papermill": {
     "duration": 0.025587,
     "end_time": "2022-11-29T13:44:02.336522",
     "exception": false,
     "start_time": "2022-11-29T13:44:02.310935",
     "status": "completed"
    },
    "tags": []
   },
   "outputs": [
    {
     "name": "stdout",
     "output_type": "stream",
     "text": [
      "column 1 is : Serial No.\n",
      "column 2 is : GRE Score\n",
      "column 3 is : TOEFL Score\n",
      "column 4 is : University Rating\n",
      "column 5 is : SOP\n",
      "column 6 is : LOR \n",
      "column 7 is : CGPA\n",
      "column 8 is : Research\n",
      "column 9 is : Chance of Admit \n"
     ]
    }
   ],
   "source": [
    "x=1\n",
    "for col in data.columns:\n",
    "    print(f'column {x} is :',col)\n",
    "    x+=1"
   ]
  },
  {
   "cell_type": "markdown",
   "id": "7c8b1823",
   "metadata": {
    "papermill": {
     "duration": 0.015647,
     "end_time": "2022-11-29T13:44:02.368014",
     "exception": false,
     "start_time": "2022-11-29T13:44:02.352367",
     "status": "completed"
    },
    "tags": []
   },
   "source": [
    "# Show data corr"
   ]
  },
  {
   "cell_type": "code",
   "execution_count": 6,
   "id": "73727d8e",
   "metadata": {
    "execution": {
     "iopub.execute_input": "2022-11-29T13:44:02.400948Z",
     "iopub.status.busy": "2022-11-29T13:44:02.400534Z",
     "iopub.status.idle": "2022-11-29T13:44:02.422082Z",
     "shell.execute_reply": "2022-11-29T13:44:02.421264Z"
    },
    "papermill": {
     "duration": 0.040789,
     "end_time": "2022-11-29T13:44:02.424301",
     "exception": false,
     "start_time": "2022-11-29T13:44:02.383512",
     "status": "completed"
    },
    "tags": []
   },
   "outputs": [
    {
     "data": {
      "text/html": [
       "<div>\n",
       "<style scoped>\n",
       "    .dataframe tbody tr th:only-of-type {\n",
       "        vertical-align: middle;\n",
       "    }\n",
       "\n",
       "    .dataframe tbody tr th {\n",
       "        vertical-align: top;\n",
       "    }\n",
       "\n",
       "    .dataframe thead th {\n",
       "        text-align: right;\n",
       "    }\n",
       "</style>\n",
       "<table border=\"1\" class=\"dataframe\">\n",
       "  <thead>\n",
       "    <tr style=\"text-align: right;\">\n",
       "      <th></th>\n",
       "      <th>Serial No.</th>\n",
       "      <th>GRE Score</th>\n",
       "      <th>TOEFL Score</th>\n",
       "      <th>University Rating</th>\n",
       "      <th>SOP</th>\n",
       "      <th>LOR</th>\n",
       "      <th>CGPA</th>\n",
       "      <th>Research</th>\n",
       "      <th>Chance of Admit</th>\n",
       "    </tr>\n",
       "  </thead>\n",
       "  <tbody>\n",
       "    <tr>\n",
       "      <th>Serial No.</th>\n",
       "      <td>1.000000</td>\n",
       "      <td>-0.097526</td>\n",
       "      <td>-0.147932</td>\n",
       "      <td>-0.169948</td>\n",
       "      <td>-0.166932</td>\n",
       "      <td>-0.088221</td>\n",
       "      <td>-0.045608</td>\n",
       "      <td>-0.063138</td>\n",
       "      <td>0.042336</td>\n",
       "    </tr>\n",
       "    <tr>\n",
       "      <th>GRE Score</th>\n",
       "      <td>-0.097526</td>\n",
       "      <td>1.000000</td>\n",
       "      <td>0.835977</td>\n",
       "      <td>0.668976</td>\n",
       "      <td>0.612831</td>\n",
       "      <td>0.557555</td>\n",
       "      <td>0.833060</td>\n",
       "      <td>0.580391</td>\n",
       "      <td>0.802610</td>\n",
       "    </tr>\n",
       "    <tr>\n",
       "      <th>TOEFL Score</th>\n",
       "      <td>-0.147932</td>\n",
       "      <td>0.835977</td>\n",
       "      <td>1.000000</td>\n",
       "      <td>0.695590</td>\n",
       "      <td>0.657981</td>\n",
       "      <td>0.567721</td>\n",
       "      <td>0.828417</td>\n",
       "      <td>0.489858</td>\n",
       "      <td>0.791594</td>\n",
       "    </tr>\n",
       "    <tr>\n",
       "      <th>University Rating</th>\n",
       "      <td>-0.169948</td>\n",
       "      <td>0.668976</td>\n",
       "      <td>0.695590</td>\n",
       "      <td>1.000000</td>\n",
       "      <td>0.734523</td>\n",
       "      <td>0.660123</td>\n",
       "      <td>0.746479</td>\n",
       "      <td>0.447783</td>\n",
       "      <td>0.711250</td>\n",
       "    </tr>\n",
       "    <tr>\n",
       "      <th>SOP</th>\n",
       "      <td>-0.166932</td>\n",
       "      <td>0.612831</td>\n",
       "      <td>0.657981</td>\n",
       "      <td>0.734523</td>\n",
       "      <td>1.000000</td>\n",
       "      <td>0.729593</td>\n",
       "      <td>0.718144</td>\n",
       "      <td>0.444029</td>\n",
       "      <td>0.675732</td>\n",
       "    </tr>\n",
       "    <tr>\n",
       "      <th>LOR</th>\n",
       "      <td>-0.088221</td>\n",
       "      <td>0.557555</td>\n",
       "      <td>0.567721</td>\n",
       "      <td>0.660123</td>\n",
       "      <td>0.729593</td>\n",
       "      <td>1.000000</td>\n",
       "      <td>0.670211</td>\n",
       "      <td>0.396859</td>\n",
       "      <td>0.669889</td>\n",
       "    </tr>\n",
       "    <tr>\n",
       "      <th>CGPA</th>\n",
       "      <td>-0.045608</td>\n",
       "      <td>0.833060</td>\n",
       "      <td>0.828417</td>\n",
       "      <td>0.746479</td>\n",
       "      <td>0.718144</td>\n",
       "      <td>0.670211</td>\n",
       "      <td>1.000000</td>\n",
       "      <td>0.521654</td>\n",
       "      <td>0.873289</td>\n",
       "    </tr>\n",
       "    <tr>\n",
       "      <th>Research</th>\n",
       "      <td>-0.063138</td>\n",
       "      <td>0.580391</td>\n",
       "      <td>0.489858</td>\n",
       "      <td>0.447783</td>\n",
       "      <td>0.444029</td>\n",
       "      <td>0.396859</td>\n",
       "      <td>0.521654</td>\n",
       "      <td>1.000000</td>\n",
       "      <td>0.553202</td>\n",
       "    </tr>\n",
       "    <tr>\n",
       "      <th>Chance of Admit</th>\n",
       "      <td>0.042336</td>\n",
       "      <td>0.802610</td>\n",
       "      <td>0.791594</td>\n",
       "      <td>0.711250</td>\n",
       "      <td>0.675732</td>\n",
       "      <td>0.669889</td>\n",
       "      <td>0.873289</td>\n",
       "      <td>0.553202</td>\n",
       "      <td>1.000000</td>\n",
       "    </tr>\n",
       "  </tbody>\n",
       "</table>\n",
       "</div>"
      ],
      "text/plain": [
       "                   Serial No.  GRE Score  TOEFL Score  University Rating  \\\n",
       "Serial No.           1.000000  -0.097526    -0.147932          -0.169948   \n",
       "GRE Score           -0.097526   1.000000     0.835977           0.668976   \n",
       "TOEFL Score         -0.147932   0.835977     1.000000           0.695590   \n",
       "University Rating   -0.169948   0.668976     0.695590           1.000000   \n",
       "SOP                 -0.166932   0.612831     0.657981           0.734523   \n",
       "LOR                 -0.088221   0.557555     0.567721           0.660123   \n",
       "CGPA                -0.045608   0.833060     0.828417           0.746479   \n",
       "Research            -0.063138   0.580391     0.489858           0.447783   \n",
       "Chance of Admit      0.042336   0.802610     0.791594           0.711250   \n",
       "\n",
       "                        SOP      LOR       CGPA  Research  Chance of Admit   \n",
       "Serial No.        -0.166932 -0.088221 -0.045608 -0.063138          0.042336  \n",
       "GRE Score          0.612831  0.557555  0.833060  0.580391          0.802610  \n",
       "TOEFL Score        0.657981  0.567721  0.828417  0.489858          0.791594  \n",
       "University Rating  0.734523  0.660123  0.746479  0.447783          0.711250  \n",
       "SOP                1.000000  0.729593  0.718144  0.444029          0.675732  \n",
       "LOR                0.729593  1.000000  0.670211  0.396859          0.669889  \n",
       "CGPA               0.718144  0.670211  1.000000  0.521654          0.873289  \n",
       "Research           0.444029  0.396859  0.521654  1.000000          0.553202  \n",
       "Chance of Admit    0.675732  0.669889  0.873289  0.553202          1.000000  "
      ]
     },
     "execution_count": 6,
     "metadata": {},
     "output_type": "execute_result"
    }
   ],
   "source": [
    "data.corr()"
   ]
  },
  {
   "cell_type": "markdown",
   "id": "091d1648",
   "metadata": {
    "papermill": {
     "duration": 0.015597,
     "end_time": "2022-11-29T13:44:02.455895",
     "exception": false,
     "start_time": "2022-11-29T13:44:02.440298",
     "status": "completed"
    },
    "tags": []
   },
   "source": [
    "# Display data corr"
   ]
  },
  {
   "cell_type": "code",
   "execution_count": 7,
   "id": "9eade8f2",
   "metadata": {
    "execution": {
     "iopub.execute_input": "2022-11-29T13:44:02.490235Z",
     "iopub.status.busy": "2022-11-29T13:44:02.489090Z",
     "iopub.status.idle": "2022-11-29T13:44:02.938967Z",
     "shell.execute_reply": "2022-11-29T13:44:02.937773Z"
    },
    "papermill": {
     "duration": 0.469564,
     "end_time": "2022-11-29T13:44:02.941410",
     "exception": false,
     "start_time": "2022-11-29T13:44:02.471846",
     "status": "completed"
    },
    "tags": []
   },
   "outputs": [
    {
     "data": {
      "text/plain": [
       "<AxesSubplot:>"
      ]
     },
     "execution_count": 7,
     "metadata": {},
     "output_type": "execute_result"
    },
    {
     "data": {
      "image/png": "[encoded data removed]",
      "text/plain": [
       "<Figure size 720x720 with 2 Axes>"
      ]
     },
     "metadata": {
      "needs_background": "light"
     },
     "output_type": "display_data"
    }
   ],
   "source": [
    "plt.figure(figsize=(10,10))\n",
    "sns.heatmap(data.corr(),cmap = 'Blues')"
   ]
  },
  {
   "cell_type": "markdown",
   "id": "17a1abeb",
   "metadata": {
    "papermill": {
     "duration": 0.016753,
     "end_time": "2022-11-29T13:44:02.974534",
     "exception": false,
     "start_time": "2022-11-29T13:44:02.957781",
     "status": "completed"
    },
    "tags": []
   },
   "source": [
    "# Show corr between data and Chance of Admit"
   ]
  },
  {
   "cell_type": "code",
   "execution_count": 8,
   "id": "11121ab4",
   "metadata": {
    "execution": {
     "iopub.execute_input": "2022-11-29T13:44:03.010351Z",
     "iopub.status.busy": "2022-11-29T13:44:03.009592Z",
     "iopub.status.idle": "2022-11-29T13:44:03.022419Z",
     "shell.execute_reply": "2022-11-29T13:44:03.021537Z"
    },
    "papermill": {
     "duration": 0.032937,
     "end_time": "2022-11-29T13:44:03.024689",
     "exception": false,
     "start_time": "2022-11-29T13:44:02.991752",
     "status": "completed"
    },
    "tags": []
   },
   "outputs": [
    {
     "data": {
      "text/plain": [
       "Serial No.           0.042336\n",
       "GRE Score            0.802610\n",
       "TOEFL Score          0.791594\n",
       "University Rating    0.711250\n",
       "SOP                  0.675732\n",
       "LOR                  0.669889\n",
       "CGPA                 0.873289\n",
       "Research             0.553202\n",
       "Chance of Admit      1.000000\n",
       "Name: Chance of Admit , dtype: float64"
      ]
     },
     "execution_count": 8,
     "metadata": {},
     "output_type": "execute_result"
    }
   ],
   "source": [
    "admit_chance = data.corr()['Chance of Admit ']\n",
    "admit_chance"
   ]
  },
  {
   "cell_type": "markdown",
   "id": "e2cc66f3",
   "metadata": {
    "papermill": {
     "duration": 0.016185,
     "end_time": "2022-11-29T13:44:03.057443",
     "exception": false,
     "start_time": "2022-11-29T13:44:03.041258",
     "status": "completed"
    },
    "tags": []
   },
   "source": [
    "# Display corr between data and Chance of Admit "
   ]
  },
  {
   "cell_type": "code",
   "execution_count": 9,
   "id": "8ff6a49f",
   "metadata": {
    "execution": {
     "iopub.execute_input": "2022-11-29T13:44:03.095554Z",
     "iopub.status.busy": "2022-11-29T13:44:03.094826Z",
     "iopub.status.idle": "2022-11-29T13:44:03.386228Z",
     "shell.execute_reply": "2022-11-29T13:44:03.384871Z"
    },
    "papermill": {
     "duration": 0.312946,
     "end_time": "2022-11-29T13:44:03.389025",
     "exception": false,
     "start_time": "2022-11-29T13:44:03.076079",
     "status": "completed"
    },
    "tags": []
   },
   "outputs": [
    {
     "data": {
      "text/plain": [
       "<AxesSubplot:>"
      ]
     },
     "execution_count": 9,
     "metadata": {},
     "output_type": "execute_result"
    },
    {
     "data": {
      "image/png": "[encoded data removed]",
      "text/plain": [
       "<Figure size 360x360 with 2 Axes>"
      ]
     },
     "metadata": {
      "needs_background": "light"
     },
     "output_type": "display_data"
    }
   ],
   "source": [
    "admit_chance=np.array(admit_chance).reshape(9,1)\n",
    "plt.figure(figsize=(5,5))\n",
    "sns.heatmap(admit_chance, annot = True, cmap = 'Blues')"
   ]
  },
  {
   "cell_type": "markdown",
   "id": "9f977ac6",
   "metadata": {
    "papermill": {
     "duration": 0.016551,
     "end_time": "2022-11-29T13:44:03.423136",
     "exception": false,
     "start_time": "2022-11-29T13:44:03.406585",
     "status": "completed"
    },
    "tags": []
   },
   "source": [
    "# Show data info"
   ]
  },
  {
   "cell_type": "code",
   "execution_count": 10,
   "id": "23e9b51e",
   "metadata": {
    "execution": {
     "iopub.execute_input": "2022-11-29T13:44:03.459268Z",
     "iopub.status.busy": "2022-11-29T13:44:03.458216Z",
     "iopub.status.idle": "2022-11-29T13:44:03.483105Z",
     "shell.execute_reply": "2022-11-29T13:44:03.481740Z"
    },
    "papermill": {
     "duration": 0.045837,
     "end_time": "2022-11-29T13:44:03.485785",
     "exception": false,
     "start_time": "2022-11-29T13:44:03.439948",
     "status": "completed"
    },
    "tags": []
   },
   "outputs": [
    {
     "name": "stdout",
     "output_type": "stream",
     "text": [
      "<class 'pandas.core.frame.DataFrame'>\n",
      "RangeIndex: 400 entries, 0 to 399\n",
      "Data columns (total 9 columns):\n",
      " #   Column             Non-Null Count  Dtype  \n",
      "---  ------             --------------  -----  \n",
      " 0   Serial No.         400 non-null    int64  \n",
      " 1   GRE Score          400 non-null    int64  \n",
      " 2   TOEFL Score        400 non-null    int64  \n",
      " 3   University Rating  400 non-null    int64  \n",
      " 4   SOP                400 non-null    float64\n",
      " 5   LOR                400 non-null    float64\n",
      " 6   CGPA               400 non-null    float64\n",
      " 7   Research           400 non-null    int64  \n",
      " 8   Chance of Admit    400 non-null    float64\n",
      "dtypes: float64(4), int64(5)\n",
      "memory usage: 28.2 KB\n"
     ]
    }
   ],
   "source": [
    "data.info()"
   ]
  },
  {
   "cell_type": "markdown",
   "id": "f22c7357",
   "metadata": {
    "papermill": {
     "duration": 0.016573,
     "end_time": "2022-11-29T13:44:03.519346",
     "exception": false,
     "start_time": "2022-11-29T13:44:03.502773",
     "status": "completed"
    },
    "tags": []
   },
   "source": [
    "# Show data contain null data"
   ]
  },
  {
   "cell_type": "code",
   "execution_count": 11,
   "id": "94beca39",
   "metadata": {
    "execution": {
     "iopub.execute_input": "2022-11-29T13:44:03.555107Z",
     "iopub.status.busy": "2022-11-29T13:44:03.554263Z",
     "iopub.status.idle": "2022-11-29T13:44:03.564197Z",
     "shell.execute_reply": "2022-11-29T13:44:03.563078Z"
    },
    "papermill": {
     "duration": 0.030421,
     "end_time": "2022-11-29T13:44:03.566534",
     "exception": false,
     "start_time": "2022-11-29T13:44:03.536113",
     "status": "completed"
    },
    "tags": []
   },
   "outputs": [
    {
     "data": {
      "text/plain": [
       "Serial No.           0\n",
       "GRE Score            0\n",
       "TOEFL Score          0\n",
       "University Rating    0\n",
       "SOP                  0\n",
       "LOR                  0\n",
       "CGPA                 0\n",
       "Research             0\n",
       "Chance of Admit      0\n",
       "dtype: int64"
      ]
     },
     "execution_count": 11,
     "metadata": {},
     "output_type": "execute_result"
    }
   ],
   "source": [
    "data.isnull().sum()"
   ]
  },
  {
   "cell_type": "markdown",
   "id": "2e93e600",
   "metadata": {
    "papermill": {
     "duration": 0.016717,
     "end_time": "2022-11-29T13:44:03.600543",
     "exception": false,
     "start_time": "2022-11-29T13:44:03.583826",
     "status": "completed"
    },
    "tags": []
   },
   "source": [
    "# Show data contain duplicate data"
   ]
  },
  {
   "cell_type": "code",
   "execution_count": 12,
   "id": "c181e9f2",
   "metadata": {
    "execution": {
     "iopub.execute_input": "2022-11-29T13:44:03.637068Z",
     "iopub.status.busy": "2022-11-29T13:44:03.635991Z",
     "iopub.status.idle": "2022-11-29T13:44:03.647293Z",
     "shell.execute_reply": "2022-11-29T13:44:03.646182Z"
    },
    "papermill": {
     "duration": 0.031863,
     "end_time": "2022-11-29T13:44:03.649504",
     "exception": false,
     "start_time": "2022-11-29T13:44:03.617641",
     "status": "completed"
    },
    "tags": []
   },
   "outputs": [
    {
     "data": {
      "text/plain": [
       "0"
      ]
     },
     "execution_count": 12,
     "metadata": {},
     "output_type": "execute_result"
    }
   ],
   "source": [
    "data.duplicated().sum()"
   ]
  },
  {
   "cell_type": "markdown",
   "id": "5f7103d3",
   "metadata": {
    "papermill": {
     "duration": 0.017084,
     "end_time": "2022-11-29T13:44:03.685026",
     "exception": false,
     "start_time": "2022-11-29T13:44:03.667942",
     "status": "completed"
    },
    "tags": []
   },
   "source": [
    "# Data Describe"
   ]
  },
  {
   "cell_type": "code",
   "execution_count": 13,
   "id": "dc192fc7",
   "metadata": {
    "execution": {
     "iopub.execute_input": "2022-11-29T13:44:03.722072Z",
     "iopub.status.busy": "2022-11-29T13:44:03.721284Z",
     "iopub.status.idle": "2022-11-29T13:44:03.762374Z",
     "shell.execute_reply": "2022-11-29T13:44:03.761184Z"
    },
    "papermill": {
     "duration": 0.062246,
     "end_time": "2022-11-29T13:44:03.764791",
     "exception": false,
     "start_time": "2022-11-29T13:44:03.702545",
     "status": "completed"
    },
    "tags": []
   },
   "outputs": [
    {
     "data": {
      "text/html": [
       "<div>\n",
       "<style scoped>\n",
       "    .dataframe tbody tr th:only-of-type {\n",
       "        vertical-align: middle;\n",
       "    }\n",
       "\n",
       "    .dataframe tbody tr th {\n",
       "        vertical-align: top;\n",
       "    }\n",
       "\n",
       "    .dataframe thead th {\n",
       "        text-align: right;\n",
       "    }\n",
       "</style>\n",
       "<table border=\"1\" class=\"dataframe\">\n",
       "  <thead>\n",
       "    <tr style=\"text-align: right;\">\n",
       "      <th></th>\n",
       "      <th>Serial No.</th>\n",
       "      <th>GRE Score</th>\n",
       "      <th>TOEFL Score</th>\n",
       "      <th>University Rating</th>\n",
       "      <th>SOP</th>\n",
       "      <th>LOR</th>\n",
       "      <th>CGPA</th>\n",
       "      <th>Research</th>\n",
       "      <th>Chance of Admit</th>\n",
       "    </tr>\n",
       "  </thead>\n",
       "  <tbody>\n",
       "    <tr>\n",
       "      <th>count</th>\n",
       "      <td>400.000000</td>\n",
       "      <td>400.000000</td>\n",
       "      <td>400.000000</td>\n",
       "      <td>400.000000</td>\n",
       "      <td>400.000000</td>\n",
       "      <td>400.000000</td>\n",
       "      <td>400.000000</td>\n",
       "      <td>400.000000</td>\n",
       "      <td>400.000000</td>\n",
       "    </tr>\n",
       "    <tr>\n",
       "      <th>mean</th>\n",
       "      <td>200.500000</td>\n",
       "      <td>316.807500</td>\n",
       "      <td>107.410000</td>\n",
       "      <td>3.087500</td>\n",
       "      <td>3.400000</td>\n",
       "      <td>3.452500</td>\n",
       "      <td>8.598925</td>\n",
       "      <td>0.547500</td>\n",
       "      <td>0.724350</td>\n",
       "    </tr>\n",
       "    <tr>\n",
       "      <th>std</th>\n",
       "      <td>115.614301</td>\n",
       "      <td>11.473646</td>\n",
       "      <td>6.069514</td>\n",
       "      <td>1.143728</td>\n",
       "      <td>1.006869</td>\n",
       "      <td>0.898478</td>\n",
       "      <td>0.596317</td>\n",
       "      <td>0.498362</td>\n",
       "      <td>0.142609</td>\n",
       "    </tr>\n",
       "    <tr>\n",
       "      <th>min</th>\n",
       "      <td>1.000000</td>\n",
       "      <td>290.000000</td>\n",
       "      <td>92.000000</td>\n",
       "      <td>1.000000</td>\n",
       "      <td>1.000000</td>\n",
       "      <td>1.000000</td>\n",
       "      <td>6.800000</td>\n",
       "      <td>0.000000</td>\n",
       "      <td>0.340000</td>\n",
       "    </tr>\n",
       "    <tr>\n",
       "      <th>25%</th>\n",
       "      <td>100.750000</td>\n",
       "      <td>308.000000</td>\n",
       "      <td>103.000000</td>\n",
       "      <td>2.000000</td>\n",
       "      <td>2.500000</td>\n",
       "      <td>3.000000</td>\n",
       "      <td>8.170000</td>\n",
       "      <td>0.000000</td>\n",
       "      <td>0.640000</td>\n",
       "    </tr>\n",
       "    <tr>\n",
       "      <th>50%</th>\n",
       "      <td>200.500000</td>\n",
       "      <td>317.000000</td>\n",
       "      <td>107.000000</td>\n",
       "      <td>3.000000</td>\n",
       "      <td>3.500000</td>\n",
       "      <td>3.500000</td>\n",
       "      <td>8.610000</td>\n",
       "      <td>1.000000</td>\n",
       "      <td>0.730000</td>\n",
       "    </tr>\n",
       "    <tr>\n",
       "      <th>75%</th>\n",
       "      <td>300.250000</td>\n",
       "      <td>325.000000</td>\n",
       "      <td>112.000000</td>\n",
       "      <td>4.000000</td>\n",
       "      <td>4.000000</td>\n",
       "      <td>4.000000</td>\n",
       "      <td>9.062500</td>\n",
       "      <td>1.000000</td>\n",
       "      <td>0.830000</td>\n",
       "    </tr>\n",
       "    <tr>\n",
       "      <th>max</th>\n",
       "      <td>400.000000</td>\n",
       "      <td>340.000000</td>\n",
       "      <td>120.000000</td>\n",
       "      <td>5.000000</td>\n",
       "      <td>5.000000</td>\n",
       "      <td>5.000000</td>\n",
       "      <td>9.920000</td>\n",
       "      <td>1.000000</td>\n",
       "      <td>0.970000</td>\n",
       "    </tr>\n",
       "  </tbody>\n",
       "</table>\n",
       "</div>"
      ],
      "text/plain": [
       "       Serial No.   GRE Score  TOEFL Score  University Rating         SOP  \\\n",
       "count  400.000000  400.000000   400.000000         400.000000  400.000000   \n",
       "mean   200.500000  316.807500   107.410000           3.087500    3.400000   \n",
       "std    115.614301   11.473646     6.069514           1.143728    1.006869   \n",
       "min      1.000000  290.000000    92.000000           1.000000    1.000000   \n",
       "25%    100.750000  308.000000   103.000000           2.000000    2.500000   \n",
       "50%    200.500000  317.000000   107.000000           3.000000    3.500000   \n",
       "75%    300.250000  325.000000   112.000000           4.000000    4.000000   \n",
       "max    400.000000  340.000000   120.000000           5.000000    5.000000   \n",
       "\n",
       "             LOR         CGPA    Research  Chance of Admit   \n",
       "count  400.000000  400.000000  400.000000        400.000000  \n",
       "mean     3.452500    8.598925    0.547500          0.724350  \n",
       "std      0.898478    0.596317    0.498362          0.142609  \n",
       "min      1.000000    6.800000    0.000000          0.340000  \n",
       "25%      3.000000    8.170000    0.000000          0.640000  \n",
       "50%      3.500000    8.610000    1.000000          0.730000  \n",
       "75%      4.000000    9.062500    1.000000          0.830000  \n",
       "max      5.000000    9.920000    1.000000          0.970000  "
      ]
     },
     "execution_count": 13,
     "metadata": {},
     "output_type": "execute_result"
    }
   ],
   "source": [
    "data.describe()"
   ]
  },
  {
   "cell_type": "markdown",
   "id": "1d932c7d",
   "metadata": {
    "papermill": {
     "duration": 0.017003,
     "end_time": "2022-11-29T13:44:03.799299",
     "exception": false,
     "start_time": "2022-11-29T13:44:03.782296",
     "status": "completed"
    },
    "tags": []
   },
   "source": [
    "# Show input X and output y"
   ]
  },
  {
   "cell_type": "code",
   "execution_count": 14,
   "id": "78cfb5e8",
   "metadata": {
    "execution": {
     "iopub.execute_input": "2022-11-29T13:44:03.836235Z",
     "iopub.status.busy": "2022-11-29T13:44:03.835246Z",
     "iopub.status.idle": "2022-11-29T13:44:03.840833Z",
     "shell.execute_reply": "2022-11-29T13:44:03.839991Z"
    },
    "papermill": {
     "duration": 0.02622,
     "end_time": "2022-11-29T13:44:03.842886",
     "exception": false,
     "start_time": "2022-11-29T13:44:03.816666",
     "status": "completed"
    },
    "tags": []
   },
   "outputs": [],
   "source": [
    "X=data.iloc[:,:-1]\n",
    "y=data.iloc[:,-1]"
   ]
  },
  {
   "cell_type": "markdown",
   "id": "4f7f57e2",
   "metadata": {
    "papermill": {
     "duration": 0.018808,
     "end_time": "2022-11-29T13:44:03.879461",
     "exception": false,
     "start_time": "2022-11-29T13:44:03.860653",
     "status": "completed"
    },
    "tags": []
   },
   "source": [
    "# Show input X"
   ]
  },
  {
   "cell_type": "code",
   "execution_count": 15,
   "id": "a488ac82",
   "metadata": {
    "execution": {
     "iopub.execute_input": "2022-11-29T13:44:03.916909Z",
     "iopub.status.busy": "2022-11-29T13:44:03.916188Z",
     "iopub.status.idle": "2022-11-29T13:44:03.934565Z",
     "shell.execute_reply": "2022-11-29T13:44:03.933239Z"
    },
    "papermill": {
     "duration": 0.039904,
     "end_time": "2022-11-29T13:44:03.936994",
     "exception": false,
     "start_time": "2022-11-29T13:44:03.897090",
     "status": "completed"
    },
    "tags": []
   },
   "outputs": [
    {
     "data": {
      "text/html": [
       "<div>\n",
       "<style scoped>\n",
       "    .dataframe tbody tr th:only-of-type {\n",
       "        vertical-align: middle;\n",
       "    }\n",
       "\n",
       "    .dataframe tbody tr th {\n",
       "        vertical-align: top;\n",
       "    }\n",
       "\n",
       "    .dataframe thead th {\n",
       "        text-align: right;\n",
       "    }\n",
       "</style>\n",
       "<table border=\"1\" class=\"dataframe\">\n",
       "  <thead>\n",
       "    <tr style=\"text-align: right;\">\n",
       "      <th></th>\n",
       "      <th>Serial No.</th>\n",
       "      <th>GRE Score</th>\n",
       "      <th>TOEFL Score</th>\n",
       "      <th>University Rating</th>\n",
       "      <th>SOP</th>\n",
       "      <th>LOR</th>\n",
       "      <th>CGPA</th>\n",
       "      <th>Research</th>\n",
       "    </tr>\n",
       "  </thead>\n",
       "  <tbody>\n",
       "    <tr>\n",
       "      <th>0</th>\n",
       "      <td>1</td>\n",
       "      <td>337</td>\n",
       "      <td>118</td>\n",
       "      <td>4</td>\n",
       "      <td>4.5</td>\n",
       "      <td>4.5</td>\n",
       "      <td>9.65</td>\n",
       "      <td>1</td>\n",
       "    </tr>\n",
       "    <tr>\n",
       "      <th>1</th>\n",
       "      <td>2</td>\n",
       "      <td>324</td>\n",
       "      <td>107</td>\n",
       "      <td>4</td>\n",
       "      <td>4.0</td>\n",
       "      <td>4.5</td>\n",
       "      <td>8.87</td>\n",
       "      <td>1</td>\n",
       "    </tr>\n",
       "    <tr>\n",
       "      <th>2</th>\n",
       "      <td>3</td>\n",
       "      <td>316</td>\n",
       "      <td>104</td>\n",
       "      <td>3</td>\n",
       "      <td>3.0</td>\n",
       "      <td>3.5</td>\n",
       "      <td>8.00</td>\n",
       "      <td>1</td>\n",
       "    </tr>\n",
       "    <tr>\n",
       "      <th>3</th>\n",
       "      <td>4</td>\n",
       "      <td>322</td>\n",
       "      <td>110</td>\n",
       "      <td>3</td>\n",
       "      <td>3.5</td>\n",
       "      <td>2.5</td>\n",
       "      <td>8.67</td>\n",
       "      <td>1</td>\n",
       "    </tr>\n",
       "    <tr>\n",
       "      <th>4</th>\n",
       "      <td>5</td>\n",
       "      <td>314</td>\n",
       "      <td>103</td>\n",
       "      <td>2</td>\n",
       "      <td>2.0</td>\n",
       "      <td>3.0</td>\n",
       "      <td>8.21</td>\n",
       "      <td>0</td>\n",
       "    </tr>\n",
       "    <tr>\n",
       "      <th>...</th>\n",
       "      <td>...</td>\n",
       "      <td>...</td>\n",
       "      <td>...</td>\n",
       "      <td>...</td>\n",
       "      <td>...</td>\n",
       "      <td>...</td>\n",
       "      <td>...</td>\n",
       "      <td>...</td>\n",
       "    </tr>\n",
       "    <tr>\n",
       "      <th>395</th>\n",
       "      <td>396</td>\n",
       "      <td>324</td>\n",
       "      <td>110</td>\n",
       "      <td>3</td>\n",
       "      <td>3.5</td>\n",
       "      <td>3.5</td>\n",
       "      <td>9.04</td>\n",
       "      <td>1</td>\n",
       "    </tr>\n",
       "    <tr>\n",
       "      <th>396</th>\n",
       "      <td>397</td>\n",
       "      <td>325</td>\n",
       "      <td>107</td>\n",
       "      <td>3</td>\n",
       "      <td>3.0</td>\n",
       "      <td>3.5</td>\n",
       "      <td>9.11</td>\n",
       "      <td>1</td>\n",
       "    </tr>\n",
       "    <tr>\n",
       "      <th>397</th>\n",
       "      <td>398</td>\n",
       "      <td>330</td>\n",
       "      <td>116</td>\n",
       "      <td>4</td>\n",
       "      <td>5.0</td>\n",
       "      <td>4.5</td>\n",
       "      <td>9.45</td>\n",
       "      <td>1</td>\n",
       "    </tr>\n",
       "    <tr>\n",
       "      <th>398</th>\n",
       "      <td>399</td>\n",
       "      <td>312</td>\n",
       "      <td>103</td>\n",
       "      <td>3</td>\n",
       "      <td>3.5</td>\n",
       "      <td>4.0</td>\n",
       "      <td>8.78</td>\n",
       "      <td>0</td>\n",
       "    </tr>\n",
       "    <tr>\n",
       "      <th>399</th>\n",
       "      <td>400</td>\n",
       "      <td>333</td>\n",
       "      <td>117</td>\n",
       "      <td>4</td>\n",
       "      <td>5.0</td>\n",
       "      <td>4.0</td>\n",
       "      <td>9.66</td>\n",
       "      <td>1</td>\n",
       "    </tr>\n",
       "  </tbody>\n",
       "</table>\n",
       "<p>400 rows × 8 columns</p>\n",
       "</div>"
      ],
      "text/plain": [
       "     Serial No.  GRE Score  TOEFL Score  University Rating  SOP  LOR   CGPA  \\\n",
       "0             1        337          118                  4  4.5   4.5  9.65   \n",
       "1             2        324          107                  4  4.0   4.5  8.87   \n",
       "2             3        316          104                  3  3.0   3.5  8.00   \n",
       "3             4        322          110                  3  3.5   2.5  8.67   \n",
       "4             5        314          103                  2  2.0   3.0  8.21   \n",
       "..          ...        ...          ...                ...  ...   ...   ...   \n",
       "395         396        324          110                  3  3.5   3.5  9.04   \n",
       "396         397        325          107                  3  3.0   3.5  9.11   \n",
       "397         398        330          116                  4  5.0   4.5  9.45   \n",
       "398         399        312          103                  3  3.5   4.0  8.78   \n",
       "399         400        333          117                  4  5.0   4.0  9.66   \n",
       "\n",
       "     Research  \n",
       "0           1  \n",
       "1           1  \n",
       "2           1  \n",
       "3           1  \n",
       "4           0  \n",
       "..        ...  \n",
       "395         1  \n",
       "396         1  \n",
       "397         1  \n",
       "398         0  \n",
       "399         1  \n",
       "\n",
       "[400 rows x 8 columns]"
      ]
     },
     "execution_count": 15,
     "metadata": {},
     "output_type": "execute_result"
    }
   ],
   "source": [
    "X"
   ]
  },
  {
   "cell_type": "markdown",
   "id": "d9fbb847",
   "metadata": {
    "papermill": {
     "duration": 0.017698,
     "end_time": "2022-11-29T13:44:03.972650",
     "exception": false,
     "start_time": "2022-11-29T13:44:03.954952",
     "status": "completed"
    },
    "tags": []
   },
   "source": [
    "# Show ouput y"
   ]
  },
  {
   "cell_type": "code",
   "execution_count": 16,
   "id": "208bd242",
   "metadata": {
    "execution": {
     "iopub.execute_input": "2022-11-29T13:44:04.011342Z",
     "iopub.status.busy": "2022-11-29T13:44:04.010573Z",
     "iopub.status.idle": "2022-11-29T13:44:04.018651Z",
     "shell.execute_reply": "2022-11-29T13:44:04.017476Z"
    },
    "papermill": {
     "duration": 0.029823,
     "end_time": "2022-11-29T13:44:04.021016",
     "exception": false,
     "start_time": "2022-11-29T13:44:03.991193",
     "status": "completed"
    },
    "tags": []
   },
   "outputs": [
    {
     "data": {
      "text/plain": [
       "0      0.92\n",
       "1      0.76\n",
       "2      0.72\n",
       "3      0.80\n",
       "4      0.65\n",
       "       ... \n",
       "395    0.82\n",
       "396    0.84\n",
       "397    0.91\n",
       "398    0.67\n",
       "399    0.95\n",
       "Name: Chance of Admit , Length: 400, dtype: float64"
      ]
     },
     "execution_count": 16,
     "metadata": {},
     "output_type": "execute_result"
    }
   ],
   "source": [
    "y"
   ]
  },
  {
   "cell_type": "markdown",
   "id": "456b7090",
   "metadata": {
    "papermill": {
     "duration": 0.017717,
     "end_time": "2022-11-29T13:44:04.057798",
     "exception": false,
     "start_time": "2022-11-29T13:44:04.040081",
     "status": "completed"
    },
    "tags": []
   },
   "source": [
    "# MinMaxScaler for Data"
   ]
  },
  {
   "cell_type": "code",
   "execution_count": 17,
   "id": "eae148f5",
   "metadata": {
    "execution": {
     "iopub.execute_input": "2022-11-29T13:44:04.098233Z",
     "iopub.status.busy": "2022-11-29T13:44:04.097419Z",
     "iopub.status.idle": "2022-11-29T13:44:04.111541Z",
     "shell.execute_reply": "2022-11-29T13:44:04.109401Z"
    },
    "papermill": {
     "duration": 0.042527,
     "end_time": "2022-11-29T13:44:04.120073",
     "exception": false,
     "start_time": "2022-11-29T13:44:04.077546",
     "status": "completed"
    },
    "tags": []
   },
   "outputs": [
    {
     "name": "stdout",
     "output_type": "stream",
     "text": [
      "X \n",
      " [[0.         0.94       0.92857143 0.75       0.875      0.875\n",
      "  0.91346154 1.        ]\n",
      " [0.00250627 0.68       0.53571429 0.75       0.75       0.875\n",
      "  0.66346154 1.        ]\n",
      " [0.00501253 0.52       0.42857143 0.5        0.5        0.625\n",
      "  0.38461538 1.        ]\n",
      " [0.0075188  0.64       0.64285714 0.5        0.625      0.375\n",
      "  0.59935897 1.        ]\n",
      " [0.01002506 0.48       0.39285714 0.25       0.25       0.5\n",
      "  0.45192308 0.        ]\n",
      " [0.01253133 0.8        0.82142857 1.         0.875      0.5\n",
      "  0.81410256 1.        ]\n",
      " [0.01503759 0.62       0.60714286 0.5        0.5        0.75\n",
      "  0.44871795 1.        ]\n",
      " [0.01754386 0.36       0.32142857 0.25       0.5        0.75\n",
      "  0.3525641  0.        ]\n",
      " [0.02005013 0.24       0.35714286 0.         0.25       0.125\n",
      "  0.38461538 0.        ]\n",
      " [0.02255639 0.66       0.57142857 0.5        0.625      0.5\n",
      "  0.57692308 0.        ]]\n",
      "y \n",
      " 0    0.92\n",
      "1    0.76\n",
      "2    0.72\n",
      "3    0.80\n",
      "4    0.65\n",
      "5    0.90\n",
      "6    0.75\n",
      "7    0.68\n",
      "8    0.50\n",
      "9    0.45\n",
      "Name: Chance of Admit , dtype: float64\n"
     ]
    }
   ],
   "source": [
    "scaler = MinMaxScaler(copy=True, feature_range=(0, 1))\n",
    "X = scaler.fit_transform(X)\n",
    "print('X \\n' , X[:10])\n",
    "print('y \\n' , y[:10])"
   ]
  },
  {
   "cell_type": "markdown",
   "id": "e1d1e124",
   "metadata": {
    "papermill": {
     "duration": 0.01937,
     "end_time": "2022-11-29T13:44:04.157789",
     "exception": false,
     "start_time": "2022-11-29T13:44:04.138419",
     "status": "completed"
    },
    "tags": []
   },
   "source": [
    "# Splitting data"
   ]
  },
  {
   "cell_type": "code",
   "execution_count": 18,
   "id": "9473f07b",
   "metadata": {
    "execution": {
     "iopub.execute_input": "2022-11-29T13:44:04.199334Z",
     "iopub.status.busy": "2022-11-29T13:44:04.198057Z",
     "iopub.status.idle": "2022-11-29T13:44:04.207614Z",
     "shell.execute_reply": "2022-11-29T13:44:04.206175Z"
    },
    "papermill": {
     "duration": 0.031784,
     "end_time": "2022-11-29T13:44:04.210114",
     "exception": false,
     "start_time": "2022-11-29T13:44:04.178330",
     "status": "completed"
    },
    "tags": []
   },
   "outputs": [
    {
     "name": "stdout",
     "output_type": "stream",
     "text": [
      "X_train shape is  (300, 8)\n",
      "X_test shape is  (100, 8)\n",
      "y_train shape is  (300,)\n",
      "y_test shape is  (100,)\n"
     ]
    }
   ],
   "source": [
    "X_train, X_test, y_train, y_test = train_test_split(X, y, test_size=0.25, random_state=44, shuffle =True)\n",
    "print('X_train shape is ' , X_train.shape)\n",
    "print('X_test shape is ' , X_test.shape)\n",
    "print('y_train shape is ' , y_train.shape)\n",
    "print('y_test shape is ' , y_test.shape)"
   ]
  },
  {
   "cell_type": "markdown",
   "id": "d9912afc",
   "metadata": {
    "papermill": {
     "duration": 0.018258,
     "end_time": "2022-11-29T13:44:04.247362",
     "exception": false,
     "start_time": "2022-11-29T13:44:04.229104",
     "status": "completed"
    },
    "tags": []
   },
   "source": [
    "# Applying Linear Regression Model"
   ]
  },
  {
   "cell_type": "code",
   "execution_count": 19,
   "id": "3fa7a567",
   "metadata": {
    "execution": {
     "iopub.execute_input": "2022-11-29T13:44:04.287126Z",
     "iopub.status.busy": "2022-11-29T13:44:04.286021Z",
     "iopub.status.idle": "2022-11-29T13:44:04.318728Z",
     "shell.execute_reply": "2022-11-29T13:44:04.317525Z"
    },
    "papermill": {
     "duration": 0.055261,
     "end_time": "2022-11-29T13:44:04.321149",
     "exception": false,
     "start_time": "2022-11-29T13:44:04.265888",
     "status": "completed"
    },
    "tags": []
   },
   "outputs": [
    {
     "name": "stderr",
     "output_type": "stream",
     "text": [
      "/opt/conda/lib/python3.7/site-packages/sklearn/linear_model/_base.py:145: FutureWarning: 'normalize' was deprecated in version 1.0 and will be removed in 1.2.\n",
      "If you wish to scale the data, use Pipeline with a StandardScaler in a preprocessing stage. To reproduce the previous behavior:\n",
      "\n",
      "from sklearn.pipeline import make_pipeline\n",
      "\n",
      "model = make_pipeline(StandardScaler(with_mean=False), LinearRegression())\n",
      "\n",
      "If you wish to pass a sample_weight parameter, you need to pass it as a fit parameter to each step of the pipeline as follows:\n",
      "\n",
      "kwargs = {s[0] + '__sample_weight': sample_weight for s in model.steps}\n",
      "model.fit(X, y, **kwargs)\n",
      "\n",
      "\n",
      "  FutureWarning,\n"
     ]
    },
    {
     "data": {
      "text/plain": [
       "LinearRegression(n_jobs=-1, normalize=True)"
      ]
     },
     "execution_count": 19,
     "metadata": {},
     "output_type": "execute_result"
    }
   ],
   "source": [
    "LinearRegressionModel = LinearRegression(fit_intercept=True, normalize=True,copy_X=True,n_jobs=-1)\n",
    "LinearRegressionModel.fit(X_train, y_train)"
   ]
  },
  {
   "cell_type": "markdown",
   "id": "40669741",
   "metadata": {
    "papermill": {
     "duration": 0.018455,
     "end_time": "2022-11-29T13:44:04.358192",
     "exception": false,
     "start_time": "2022-11-29T13:44:04.339737",
     "status": "completed"
    },
    "tags": []
   },
   "source": [
    "# Calculating Details"
   ]
  },
  {
   "cell_type": "code",
   "execution_count": 20,
   "id": "77eeaf16",
   "metadata": {
    "execution": {
     "iopub.execute_input": "2022-11-29T13:44:04.398093Z",
     "iopub.status.busy": "2022-11-29T13:44:04.397643Z",
     "iopub.status.idle": "2022-11-29T13:44:04.408282Z",
     "shell.execute_reply": "2022-11-29T13:44:04.406988Z"
    },
    "papermill": {
     "duration": 0.03325,
     "end_time": "2022-11-29T13:44:04.410716",
     "exception": false,
     "start_time": "2022-11-29T13:44:04.377466",
     "status": "completed"
    },
    "tags": []
   },
   "outputs": [
    {
     "name": "stdout",
     "output_type": "stream",
     "text": [
      "Linear Regression Train Score is :  0.8134280745219549\n",
      "Linear Regression Test Score is :  0.8282849637550226\n",
      "Linear Regression Coef is :  [0.06645706 0.10068436 0.08896733 0.04061515 0.00056174 0.0658846\n",
      " 0.34301032 0.02835824]\n",
      "Linear Regression intercept is :  0.3131302063502122\n"
     ]
    }
   ],
   "source": [
    "print('Linear Regression Train Score is : ' , LinearRegressionModel.score(X_train, y_train))\n",
    "print('Linear Regression Test Score is : ' , LinearRegressionModel.score(X_test, y_test))\n",
    "print('Linear Regression Coef is : ' , LinearRegressionModel.coef_)\n",
    "print('Linear Regression intercept is : ' , LinearRegressionModel.intercept_)"
   ]
  },
  {
   "cell_type": "markdown",
   "id": "7c7d6690",
   "metadata": {
    "papermill": {
     "duration": 0.018162,
     "end_time": "2022-11-29T13:44:04.447836",
     "exception": false,
     "start_time": "2022-11-29T13:44:04.429674",
     "status": "completed"
    },
    "tags": []
   },
   "source": [
    "# Applying Random Forest Regressor Model"
   ]
  },
  {
   "cell_type": "code",
   "execution_count": 21,
   "id": "c00458e2",
   "metadata": {
    "execution": {
     "iopub.execute_input": "2022-11-29T13:44:04.486608Z",
     "iopub.status.busy": "2022-11-29T13:44:04.485830Z",
     "iopub.status.idle": "2022-11-29T13:44:04.695618Z",
     "shell.execute_reply": "2022-11-29T13:44:04.694128Z"
    },
    "papermill": {
     "duration": 0.233453,
     "end_time": "2022-11-29T13:44:04.699459",
     "exception": false,
     "start_time": "2022-11-29T13:44:04.466006",
     "status": "completed"
    },
    "tags": []
   },
   "outputs": [
    {
     "data": {
      "text/plain": [
       "RandomForestRegressor(max_depth=15, random_state=33)"
      ]
     },
     "execution_count": 21,
     "metadata": {},
     "output_type": "execute_result"
    }
   ],
   "source": [
    "RandomForestRegressorModel = RandomForestRegressor(n_estimators=100,max_depth=15, random_state=33)\n",
    "RandomForestRegressorModel.fit(X_train, y_train)"
   ]
  },
  {
   "cell_type": "markdown",
   "id": "23efe299",
   "metadata": {
    "papermill": {
     "duration": 0.018619,
     "end_time": "2022-11-29T13:44:04.738041",
     "exception": false,
     "start_time": "2022-11-29T13:44:04.719422",
     "status": "completed"
    },
    "tags": []
   },
   "source": [
    "# Calculating Details"
   ]
  },
  {
   "cell_type": "code",
   "execution_count": 22,
   "id": "f9bcaa3e",
   "metadata": {
    "execution": {
     "iopub.execute_input": "2022-11-29T13:44:04.779080Z",
     "iopub.status.busy": "2022-11-29T13:44:04.778242Z",
     "iopub.status.idle": "2022-11-29T13:44:04.825085Z",
     "shell.execute_reply": "2022-11-29T13:44:04.823129Z"
    },
    "papermill": {
     "duration": 0.070888,
     "end_time": "2022-11-29T13:44:04.828127",
     "exception": false,
     "start_time": "2022-11-29T13:44:04.757239",
     "status": "completed"
    },
    "tags": []
   },
   "outputs": [
    {
     "name": "stdout",
     "output_type": "stream",
     "text": [
      "Random Forest Regressor Train Score is :  0.9709048829538982\n",
      "Random Forest Regressor Test Score is :  0.8574643820529987\n",
      "Random Forest Regressor No. of features are :  8\n",
      "Random Forest Regressor features importances are :  [0.07031227 0.05379242 0.0290632  0.01175073 0.01680246 0.01590001\n",
      " 0.79013784 0.01224107]\n"
     ]
    },
    {
     "name": "stderr",
     "output_type": "stream",
     "text": [
      "/opt/conda/lib/python3.7/site-packages/sklearn/utils/deprecation.py:103: FutureWarning: Attribute `n_features_` was deprecated in version 1.0 and will be removed in 1.2. Use `n_features_in_` instead.\n",
      "  warnings.warn(msg, category=FutureWarning)\n"
     ]
    }
   ],
   "source": [
    "print('Random Forest Regressor Train Score is : ' , RandomForestRegressorModel.score(X_train, y_train))\n",
    "print('Random Forest Regressor Test Score is : ' , RandomForestRegressorModel.score(X_test, y_test))\n",
    "print('Random Forest Regressor No. of features are : ' , RandomForestRegressorModel.n_features_)\n",
    "print('Random Forest Regressor features importances are : ' , RandomForestRegressorModel.feature_importances_)"
   ]
  },
  {
   "cell_type": "markdown",
   "id": "d35c7008",
   "metadata": {
    "papermill": {
     "duration": 0.020032,
     "end_time": "2022-11-29T13:44:04.869807",
     "exception": false,
     "start_time": "2022-11-29T13:44:04.849775",
     "status": "completed"
    },
    "tags": []
   },
   "source": [
    "# Applying MLPRegressor Model "
   ]
  },
  {
   "cell_type": "code",
   "execution_count": 23,
   "id": "7bd5ba60",
   "metadata": {
    "execution": {
     "iopub.execute_input": "2022-11-29T13:44:04.911110Z",
     "iopub.status.busy": "2022-11-29T13:44:04.910691Z",
     "iopub.status.idle": "2022-11-29T13:44:05.038491Z",
     "shell.execute_reply": "2022-11-29T13:44:05.037196Z"
    },
    "papermill": {
     "duration": 0.151421,
     "end_time": "2022-11-29T13:44:05.041097",
     "exception": false,
     "start_time": "2022-11-29T13:44:04.889676",
     "status": "completed"
    },
    "tags": []
   },
   "outputs": [
    {
     "data": {
      "text/plain": [
       "MLPRegressor(activation='tanh', hidden_layer_sizes=(100, 5), random_state=33,\n",
       "             solver='lbfgs')"
      ]
     },
     "execution_count": 23,
     "metadata": {},
     "output_type": "execute_result"
    }
   ],
   "source": [
    "MLPRegressorModel = MLPRegressor(activation='tanh', # can be also identity , logistic , relu\n",
    "                                 solver='lbfgs',  # can be also sgd , adam\n",
    "                                 learning_rate='constant', # can be also invscaling , adaptive\n",
    "                                 early_stopping= False,\n",
    "                                 alpha=0.0001 ,hidden_layer_sizes=(100, 5),random_state=33)\n",
    "MLPRegressorModel.fit(X_train, y_train)"
   ]
  },
  {
   "cell_type": "markdown",
   "id": "859be099",
   "metadata": {
    "papermill": {
     "duration": 0.018491,
     "end_time": "2022-11-29T13:44:05.079108",
     "exception": false,
     "start_time": "2022-11-29T13:44:05.060617",
     "status": "completed"
    },
    "tags": []
   },
   "source": [
    "# Calculating Details"
   ]
  },
  {
   "cell_type": "code",
   "execution_count": 24,
   "id": "1b2ccfd0",
   "metadata": {
    "execution": {
     "iopub.execute_input": "2022-11-29T13:44:05.118955Z",
     "iopub.status.busy": "2022-11-29T13:44:05.118570Z",
     "iopub.status.idle": "2022-11-29T13:44:05.129614Z",
     "shell.execute_reply": "2022-11-29T13:44:05.127859Z"
    },
    "papermill": {
     "duration": 0.034086,
     "end_time": "2022-11-29T13:44:05.132099",
     "exception": false,
     "start_time": "2022-11-29T13:44:05.098013",
     "status": "completed"
    },
    "tags": []
   },
   "outputs": [
    {
     "name": "stdout",
     "output_type": "stream",
     "text": [
      "MLPRegressorModel Train Score is :  0.8322304687501737\n",
      "MLPRegressorModel Test Score is :  0.8160826805826766\n",
      "MLPRegressorModel loss is :  0.0017169282190960503\n",
      "MLPRegressorModel No. of iterations is :  56\n",
      "MLPRegressorModel No. of layers is :  4\n",
      "MLPRegressorModel last activation is :  identity\n"
     ]
    }
   ],
   "source": [
    "print('MLPRegressorModel Train Score is : ' , MLPRegressorModel.score(X_train, y_train))\n",
    "print('MLPRegressorModel Test Score is : ' , MLPRegressorModel.score(X_test, y_test))\n",
    "print('MLPRegressorModel loss is : ' , MLPRegressorModel.loss_)\n",
    "print('MLPRegressorModel No. of iterations is : ' , MLPRegressorModel.n_iter_)\n",
    "print('MLPRegressorModel No. of layers is : ' , MLPRegressorModel.n_layers_)\n",
    "print('MLPRegressorModel last activation is : ' , MLPRegressorModel.out_activation_)"
   ]
  },
  {
   "cell_type": "markdown",
   "id": "79a8ff2b",
   "metadata": {
    "papermill": {
     "duration": 0.021226,
     "end_time": "2022-11-29T13:44:05.173048",
     "exception": false,
     "start_time": "2022-11-29T13:44:05.151822",
     "status": "completed"
    },
    "tags": []
   },
   "source": [
    "# Applying DecisionTreeRegressor Model "
   ]
  },
  {
   "cell_type": "code",
   "execution_count": 25,
   "id": "7563ca0a",
   "metadata": {
    "execution": {
     "iopub.execute_input": "2022-11-29T13:44:05.217030Z",
     "iopub.status.busy": "2022-11-29T13:44:05.216593Z",
     "iopub.status.idle": "2022-11-29T13:44:05.225943Z",
     "shell.execute_reply": "2022-11-29T13:44:05.224805Z"
    },
    "papermill": {
     "duration": 0.0346,
     "end_time": "2022-11-29T13:44:05.228506",
     "exception": false,
     "start_time": "2022-11-29T13:44:05.193906",
     "status": "completed"
    },
    "tags": []
   },
   "outputs": [
    {
     "data": {
      "text/plain": [
       "DecisionTreeRegressor(max_depth=5, random_state=33)"
      ]
     },
     "execution_count": 25,
     "metadata": {},
     "output_type": "execute_result"
    }
   ],
   "source": [
    "DecisionTreeRegressorModel = DecisionTreeRegressor( max_depth=5,random_state=33)\n",
    "DecisionTreeRegressorModel.fit(X_train, y_train)"
   ]
  },
  {
   "cell_type": "markdown",
   "id": "b2ecddad",
   "metadata": {
    "papermill": {
     "duration": 0.022098,
     "end_time": "2022-11-29T13:44:05.270543",
     "exception": false,
     "start_time": "2022-11-29T13:44:05.248445",
     "status": "completed"
    },
    "tags": []
   },
   "source": [
    "# Calculating Details"
   ]
  },
  {
   "cell_type": "code",
   "execution_count": 26,
   "id": "189659b3",
   "metadata": {
    "execution": {
     "iopub.execute_input": "2022-11-29T13:44:05.310553Z",
     "iopub.status.busy": "2022-11-29T13:44:05.310070Z",
     "iopub.status.idle": "2022-11-29T13:44:05.318711Z",
     "shell.execute_reply": "2022-11-29T13:44:05.317383Z"
    },
    "papermill": {
     "duration": 0.031445,
     "end_time": "2022-11-29T13:44:05.321332",
     "exception": false,
     "start_time": "2022-11-29T13:44:05.289887",
     "status": "completed"
    },
    "tags": []
   },
   "outputs": [
    {
     "name": "stdout",
     "output_type": "stream",
     "text": [
      "DecisionTreeRegressor Train Score is :  0.8941286282315031\n",
      "DecisionTreeRegressor Test Score is :  0.792021505368453\n"
     ]
    }
   ],
   "source": [
    "print('DecisionTreeRegressor Train Score is : ' , DecisionTreeRegressorModel.score(X_train, y_train))\n",
    "print('DecisionTreeRegressor Test Score is : ' , DecisionTreeRegressorModel.score(X_test, y_test))"
   ]
  },
  {
   "cell_type": "markdown",
   "id": "61746453",
   "metadata": {
    "papermill": {
     "duration": 0.018828,
     "end_time": "2022-11-29T13:44:05.360266",
     "exception": false,
     "start_time": "2022-11-29T13:44:05.341438",
     "status": "completed"
    },
    "tags": []
   },
   "source": [
    "# Applying SVR Model "
   ]
  },
  {
   "cell_type": "code",
   "execution_count": 27,
   "id": "13af2fa1",
   "metadata": {
    "execution": {
     "iopub.execute_input": "2022-11-29T13:44:05.400212Z",
     "iopub.status.busy": "2022-11-29T13:44:05.399146Z",
     "iopub.status.idle": "2022-11-29T13:44:05.412404Z",
     "shell.execute_reply": "2022-11-29T13:44:05.411120Z"
    },
    "papermill": {
     "duration": 0.035944,
     "end_time": "2022-11-29T13:44:05.415022",
     "exception": false,
     "start_time": "2022-11-29T13:44:05.379078",
     "status": "completed"
    },
    "tags": []
   },
   "outputs": [
    {
     "data": {
      "text/plain": [
       "SVR()"
      ]
     },
     "execution_count": 27,
     "metadata": {},
     "output_type": "execute_result"
    }
   ],
   "source": [
    "SVRModel = SVR(C = 1.0 ,epsilon=0.1,kernel = 'rbf') # it also can be : linear, poly, rbf, sigmoid, precomputed\n",
    "SVRModel.fit(X_train, y_train)"
   ]
  },
  {
   "cell_type": "markdown",
   "id": "c62315a8",
   "metadata": {
    "papermill": {
     "duration": 0.020301,
     "end_time": "2022-11-29T13:44:05.455979",
     "exception": false,
     "start_time": "2022-11-29T13:44:05.435678",
     "status": "completed"
    },
    "tags": []
   },
   "source": [
    "# Calculating Details"
   ]
  },
  {
   "cell_type": "code",
   "execution_count": 28,
   "id": "32da0d98",
   "metadata": {
    "execution": {
     "iopub.execute_input": "2022-11-29T13:44:05.498846Z",
     "iopub.status.busy": "2022-11-29T13:44:05.497973Z",
     "iopub.status.idle": "2022-11-29T13:44:05.508083Z",
     "shell.execute_reply": "2022-11-29T13:44:05.506647Z"
    },
    "papermill": {
     "duration": 0.034207,
     "end_time": "2022-11-29T13:44:05.510675",
     "exception": false,
     "start_time": "2022-11-29T13:44:05.476468",
     "status": "completed"
    },
    "tags": []
   },
   "outputs": [
    {
     "name": "stdout",
     "output_type": "stream",
     "text": [
      "SVRModel Train Score is :  0.803119084415997\n",
      "SVRModel Test Score is :  0.7848574997058455\n"
     ]
    }
   ],
   "source": [
    "print('SVRModel Train Score is : ' , SVRModel.score(X_train, y_train))\n",
    "print('SVRModel Test Score is : ' , SVRModel.score(X_test, y_test))"
   ]
  },
  {
   "cell_type": "markdown",
   "id": "84bd341d",
   "metadata": {
    "papermill": {
     "duration": 0.018962,
     "end_time": "2022-11-29T13:44:05.550931",
     "exception": false,
     "start_time": "2022-11-29T13:44:05.531969",
     "status": "completed"
    },
    "tags": []
   },
   "source": [
    "# Applying KNeighborsRegressor Model"
   ]
  },
  {
   "cell_type": "code",
   "execution_count": 29,
   "id": "69b70674",
   "metadata": {
    "execution": {
     "iopub.execute_input": "2022-11-29T13:44:05.591013Z",
     "iopub.status.busy": "2022-11-29T13:44:05.590595Z",
     "iopub.status.idle": "2022-11-29T13:44:05.600698Z",
     "shell.execute_reply": "2022-11-29T13:44:05.599565Z"
    },
    "papermill": {
     "duration": 0.032851,
     "end_time": "2022-11-29T13:44:05.602975",
     "exception": false,
     "start_time": "2022-11-29T13:44:05.570124",
     "status": "completed"
    },
    "tags": []
   },
   "outputs": [
    {
     "data": {
      "text/plain": [
       "KNeighborsRegressor(weights='distance')"
      ]
     },
     "execution_count": 29,
     "metadata": {},
     "output_type": "execute_result"
    }
   ],
   "source": [
    "KNeighborsRegressorModel = KNeighborsRegressor(n_neighbors =5, weights='distance', #also can be : distance, or defined function \n",
    "                                               algorithm = 'auto')    #also can be : ball_tree ,  kd_tree  , brute\n",
    "KNeighborsRegressorModel.fit(X_train, y_train)"
   ]
  },
  {
   "cell_type": "markdown",
   "id": "43c3d027",
   "metadata": {
    "papermill": {
     "duration": 0.021511,
     "end_time": "2022-11-29T13:44:05.645786",
     "exception": false,
     "start_time": "2022-11-29T13:44:05.624275",
     "status": "completed"
    },
    "tags": []
   },
   "source": [
    "# Calculating Details"
   ]
  },
  {
   "cell_type": "code",
   "execution_count": 30,
   "id": "d8189d7d",
   "metadata": {
    "execution": {
     "iopub.execute_input": "2022-11-29T13:44:05.688979Z",
     "iopub.status.busy": "2022-11-29T13:44:05.688597Z",
     "iopub.status.idle": "2022-11-29T13:44:05.700227Z",
     "shell.execute_reply": "2022-11-29T13:44:05.698967Z"
    },
    "papermill": {
     "duration": 0.036133,
     "end_time": "2022-11-29T13:44:05.702645",
     "exception": false,
     "start_time": "2022-11-29T13:44:05.666512",
     "status": "completed"
    },
    "tags": []
   },
   "outputs": [
    {
     "name": "stdout",
     "output_type": "stream",
     "text": [
      "KNeighborsRegressorModel Train Score is :  1.0\n",
      "KNeighborsRegressorModel Test Score is :  0.823627642067358\n"
     ]
    }
   ],
   "source": [
    "print('KNeighborsRegressorModel Train Score is : ' , KNeighborsRegressorModel.score(X_train, y_train))\n",
    "print('KNeighborsRegressorModel Test Score is : ' , KNeighborsRegressorModel.score(X_test, y_test))"
   ]
  },
  {
   "cell_type": "markdown",
   "id": "da501fdb",
   "metadata": {
    "papermill": {
     "duration": 0.019068,
     "end_time": "2022-11-29T13:44:05.743327",
     "exception": false,
     "start_time": "2022-11-29T13:44:05.724259",
     "status": "completed"
    },
    "tags": []
   },
   "source": [
    "# Applying Gradient Boosting Regressor Model"
   ]
  },
  {
   "cell_type": "code",
   "execution_count": 31,
   "id": "43774a57",
   "metadata": {
    "execution": {
     "iopub.execute_input": "2022-11-29T13:44:05.784017Z",
     "iopub.status.busy": "2022-11-29T13:44:05.783253Z",
     "iopub.status.idle": "2022-11-29T13:44:05.884750Z",
     "shell.execute_reply": "2022-11-29T13:44:05.883356Z"
    },
    "papermill": {
     "duration": 0.124374,
     "end_time": "2022-11-29T13:44:05.887144",
     "exception": false,
     "start_time": "2022-11-29T13:44:05.762770",
     "status": "completed"
    },
    "tags": []
   },
   "outputs": [
    {
     "data": {
      "text/plain": [
       "GradientBoostingRegressor(learning_rate=0.5, max_depth=5, random_state=33)"
      ]
     },
     "execution_count": 31,
     "metadata": {},
     "output_type": "execute_result"
    }
   ],
   "source": [
    "GBRModel = GradientBoostingRegressor(n_estimators=100,max_depth=5,learning_rate = .5 ,random_state=33)\n",
    "GBRModel.fit(X_train, y_train)"
   ]
  },
  {
   "cell_type": "markdown",
   "id": "86e34b00",
   "metadata": {
    "papermill": {
     "duration": 0.020325,
     "end_time": "2022-11-29T13:44:05.928562",
     "exception": false,
     "start_time": "2022-11-29T13:44:05.908237",
     "status": "completed"
    },
    "tags": []
   },
   "source": [
    "# Calculating Details"
   ]
  },
  {
   "cell_type": "code",
   "execution_count": 32,
   "id": "1a39d102",
   "metadata": {
    "execution": {
     "iopub.execute_input": "2022-11-29T13:44:05.972214Z",
     "iopub.status.busy": "2022-11-29T13:44:05.971425Z",
     "iopub.status.idle": "2022-11-29T13:44:05.981964Z",
     "shell.execute_reply": "2022-11-29T13:44:05.980582Z"
    },
    "papermill": {
     "duration": 0.035401,
     "end_time": "2022-11-29T13:44:05.984462",
     "exception": false,
     "start_time": "2022-11-29T13:44:05.949061",
     "status": "completed"
    },
    "tags": []
   },
   "outputs": [
    {
     "name": "stdout",
     "output_type": "stream",
     "text": [
      "GBRModel Train Score is :  0.9999999042317869\n",
      "GBRModel Test Score is :  0.8197678023867483\n"
     ]
    }
   ],
   "source": [
    "print('GBRModel Train Score is : ' , GBRModel.score(X_train, y_train))\n",
    "print('GBRModel Test Score is : ' , GBRModel.score(X_test, y_test))"
   ]
  },
  {
   "cell_type": "markdown",
   "id": "41ff95d3",
   "metadata": {
    "papermill": {
     "duration": 0.020576,
     "end_time": "2022-11-29T13:44:06.025817",
     "exception": false,
     "start_time": "2022-11-29T13:44:06.005241",
     "status": "completed"
    },
    "tags": []
   },
   "source": [
    "# Applying SGDRegressor Model "
   ]
  },
  {
   "cell_type": "code",
   "execution_count": 33,
   "id": "58fdc046",
   "metadata": {
    "execution": {
     "iopub.execute_input": "2022-11-29T13:44:06.069613Z",
     "iopub.status.busy": "2022-11-29T13:44:06.068326Z",
     "iopub.status.idle": "2022-11-29T13:44:06.080181Z",
     "shell.execute_reply": "2022-11-29T13:44:06.079268Z"
    },
    "papermill": {
     "duration": 0.035782,
     "end_time": "2022-11-29T13:44:06.082717",
     "exception": false,
     "start_time": "2022-11-29T13:44:06.046935",
     "status": "completed"
    },
    "tags": []
   },
   "outputs": [
    {
     "data": {
      "text/plain": [
       "SGDRegressor(alpha=0.1, loss='huber', random_state=33)"
      ]
     },
     "execution_count": 33,
     "metadata": {},
     "output_type": "execute_result"
    }
   ],
   "source": [
    "SGDRegressionModel = SGDRegressor(alpha=0.1,random_state=33,penalty='l2',loss = 'huber')\n",
    "SGDRegressionModel.fit(X_train, y_train)"
   ]
  },
  {
   "cell_type": "markdown",
   "id": "2c96bbdf",
   "metadata": {
    "papermill": {
     "duration": 0.020688,
     "end_time": "2022-11-29T13:44:06.123440",
     "exception": false,
     "start_time": "2022-11-29T13:44:06.102752",
     "status": "completed"
    },
    "tags": []
   },
   "source": [
    "# Calculating Details"
   ]
  },
  {
   "cell_type": "code",
   "execution_count": 34,
   "id": "a8f5437d",
   "metadata": {
    "execution": {
     "iopub.execute_input": "2022-11-29T13:44:06.167424Z",
     "iopub.status.busy": "2022-11-29T13:44:06.166715Z",
     "iopub.status.idle": "2022-11-29T13:44:06.177352Z",
     "shell.execute_reply": "2022-11-29T13:44:06.175966Z"
    },
    "papermill": {
     "duration": 0.03556,
     "end_time": "2022-11-29T13:44:06.179689",
     "exception": false,
     "start_time": "2022-11-29T13:44:06.144129",
     "status": "completed"
    },
    "tags": []
   },
   "outputs": [
    {
     "name": "stdout",
     "output_type": "stream",
     "text": [
      "SGD Regression Train Score is :  0.730922022297426\n",
      "SGD Regression Test Score is :  0.7481810335557195\n",
      "SGD Regression Coef is :  [0.09599689 0.09870252 0.10317753 0.08903511 0.1019196  0.10960264\n",
      " 0.10886689 0.07574171]\n",
      "SGD Regression intercept is :  [0.2688947]\n"
     ]
    }
   ],
   "source": [
    "print('SGD Regression Train Score is : ' , SGDRegressionModel.score(X_train, y_train))\n",
    "print('SGD Regression Test Score is : ' , SGDRegressionModel.score(X_test, y_test))\n",
    "print('SGD Regression Coef is : ' , SGDRegressionModel.coef_)\n",
    "print('SGD Regression intercept is : ' , SGDRegressionModel.intercept_)"
   ]
  },
  {
   "cell_type": "markdown",
   "id": "2263f4dd",
   "metadata": {
    "papermill": {
     "duration": 0.019449,
     "end_time": "2022-11-29T13:44:06.219974",
     "exception": false,
     "start_time": "2022-11-29T13:44:06.200525",
     "status": "completed"
    },
    "tags": []
   },
   "source": [
    "# Show RandomForestRegressorModel.feature_importances_"
   ]
  },
  {
   "cell_type": "code",
   "execution_count": 35,
   "id": "91d689b9",
   "metadata": {
    "execution": {
     "iopub.execute_input": "2022-11-29T13:44:06.263915Z",
     "iopub.status.busy": "2022-11-29T13:44:06.263496Z",
     "iopub.status.idle": "2022-11-29T13:44:06.405850Z",
     "shell.execute_reply": "2022-11-29T13:44:06.404487Z"
    },
    "papermill": {
     "duration": 0.166547,
     "end_time": "2022-11-29T13:44:06.407957",
     "exception": true,
     "start_time": "2022-11-29T13:44:06.241410",
     "status": "failed"
    },
    "tags": []
   },
   "outputs": [
    {
     "ename": "AttributeError",
     "evalue": "'numpy.ndarray' object has no attribute 'keys'",
     "output_type": "error",
     "traceback": [
      "\u001b[0;31m---------------------------------------------------------------------------\u001b[0m",
      "\u001b[0;31mAttributeError\u001b[0m                            Traceback (most recent call last)",
      "\u001b[0;32m/tmp/ipykernel_19/245489429.py\u001b[0m in \u001b[0;36m<module>\u001b[0;34m\u001b[0m\n\u001b[1;32m      1\u001b[0m \u001b[0mplt\u001b[0m\u001b[0;34m.\u001b[0m\u001b[0mfigure\u001b[0m\u001b[0;34m(\u001b[0m\u001b[0mfigsize\u001b[0m\u001b[0;34m=\u001b[0m\u001b[0;34m(\u001b[0m\u001b[0;36m15\u001b[0m\u001b[0;34m,\u001b[0m\u001b[0;36m15\u001b[0m\u001b[0;34m)\u001b[0m\u001b[0;34m)\u001b[0m\u001b[0;34m\u001b[0m\u001b[0;34m\u001b[0m\u001b[0m\n\u001b[0;32m----> 2\u001b[0;31m \u001b[0mplt\u001b[0m\u001b[0;34m.\u001b[0m\u001b[0mbar\u001b[0m\u001b[0;34m(\u001b[0m\u001b[0mX\u001b[0m\u001b[0;34m.\u001b[0m\u001b[0mkeys\u001b[0m\u001b[0;34m(\u001b[0m\u001b[0;34m)\u001b[0m\u001b[0;34m,\u001b[0m\u001b[0mRandomForestRegressorModel\u001b[0m\u001b[0;34m.\u001b[0m\u001b[0mfeature_importances_\u001b[0m\u001b[0;34m)\u001b[0m\u001b[0;34m\u001b[0m\u001b[0;34m\u001b[0m\u001b[0m\n\u001b[0m",
      "\u001b[0;31mAttributeError\u001b[0m: 'numpy.ndarray' object has no attribute 'keys'"
     ]
    },
    {
     "data": {
      "text/plain": [
       "<Figure size 1080x1080 with 0 Axes>"
      ]
     },
     "metadata": {},
     "output_type": "display_data"
    }
   ],
   "source": [
    "plt.figure(figsize=(15,15))\n",
    "plt.bar(X.keys(),RandomForestRegressorModel.feature_importances_)"
   ]
  },
  {
   "cell_type": "markdown",
   "id": "032a77c7",
   "metadata": {
    "papermill": {
     "duration": null,
     "end_time": null,
     "exception": null,
     "start_time": null,
     "status": "pending"
    },
    "tags": []
   },
   "source": [
    "# Calculating Prediction"
   ]
  },
  {
   "cell_type": "code",
   "execution_count": null,
   "id": "865fa621",
   "metadata": {
    "execution": {
     "iopub.execute_input": "2022-11-29T13:38:12.341117Z",
     "iopub.status.busy": "2022-11-29T13:38:12.340104Z",
     "iopub.status.idle": "2022-11-29T13:38:12.366039Z",
     "shell.execute_reply": "2022-11-29T13:38:12.365121Z",
     "shell.execute_reply.started": "2022-11-29T13:38:12.341057Z"
    },
    "papermill": {
     "duration": null,
     "end_time": null,
     "exception": null,
     "start_time": null,
     "status": "pending"
    },
    "tags": []
   },
   "outputs": [],
   "source": [
    "y_pred = RandomForestRegressorModel.predict(X_test)\n",
    "y_pred"
   ]
  },
  {
   "cell_type": "markdown",
   "id": "02526776",
   "metadata": {
    "papermill": {
     "duration": null,
     "end_time": null,
     "exception": null,
     "start_time": null,
     "status": "pending"
    },
    "tags": []
   },
   "source": [
    "# Calculating Mean Absolute Error"
   ]
  },
  {
   "cell_type": "code",
   "execution_count": null,
   "id": "81864c98",
   "metadata": {
    "execution": {
     "iopub.execute_input": "2022-11-29T13:39:31.324277Z",
     "iopub.status.busy": "2022-11-29T13:39:31.323354Z",
     "iopub.status.idle": "2022-11-29T13:39:31.333071Z",
     "shell.execute_reply": "2022-11-29T13:39:31.331508Z",
     "shell.execute_reply.started": "2022-11-29T13:39:31.324233Z"
    },
    "papermill": {
     "duration": null,
     "end_time": null,
     "exception": null,
     "start_time": null,
     "status": "pending"
    },
    "tags": []
   },
   "outputs": [],
   "source": [
    "MAEValue = mean_absolute_error(y_test, y_pred, multioutput='uniform_average')\n",
    "print('Mean Absolute Error Value is : ', MAEValue)"
   ]
  },
  {
   "cell_type": "markdown",
   "id": "4cf7a5df",
   "metadata": {
    "papermill": {
     "duration": null,
     "end_time": null,
     "exception": null,
     "start_time": null,
     "status": "pending"
    },
    "tags": []
   },
   "source": [
    "# Calculating Mean Squared Error"
   ]
  },
  {
   "cell_type": "code",
   "execution_count": null,
   "id": "e1ba7977",
   "metadata": {
    "execution": {
     "iopub.execute_input": "2022-11-29T13:40:08.533795Z",
     "iopub.status.busy": "2022-11-29T13:40:08.533381Z",
     "iopub.status.idle": "2022-11-29T13:40:08.541166Z",
     "shell.execute_reply": "2022-11-29T13:40:08.540101Z",
     "shell.execute_reply.started": "2022-11-29T13:40:08.533763Z"
    },
    "papermill": {
     "duration": null,
     "end_time": null,
     "exception": null,
     "start_time": null,
     "status": "pending"
    },
    "tags": []
   },
   "outputs": [],
   "source": [
    "MSEValue = mean_squared_error(y_test, y_pred, multioutput='uniform_average') # it can be raw_values\n",
    "print('Mean Squared Error Value is : ', MSEValue)"
   ]
  },
  {
   "cell_type": "markdown",
   "id": "b822de3b",
   "metadata": {
    "papermill": {
     "duration": null,
     "end_time": null,
     "exception": null,
     "start_time": null,
     "status": "pending"
    },
    "tags": []
   },
   "source": [
    "# Calculating Median Absolute Error"
   ]
  },
  {
   "cell_type": "code",
   "execution_count": null,
   "id": "31dc17a3",
   "metadata": {
    "execution": {
     "iopub.execute_input": "2022-11-29T13:40:55.365471Z",
     "iopub.status.busy": "2022-11-29T13:40:55.363847Z",
     "iopub.status.idle": "2022-11-29T13:40:55.372232Z",
     "shell.execute_reply": "2022-11-29T13:40:55.371194Z",
     "shell.execute_reply.started": "2022-11-29T13:40:55.365415Z"
    },
    "papermill": {
     "duration": null,
     "end_time": null,
     "exception": null,
     "start_time": null,
     "status": "pending"
    },
    "tags": []
   },
   "outputs": [],
   "source": [
    "MdSEValue = median_absolute_error(y_test, y_pred)\n",
    "print('Median Absolute Error Value is : ', MdSEValue )"
   ]
  },
  {
   "cell_type": "markdown",
   "id": "fd5507c3",
   "metadata": {
    "papermill": {
     "duration": null,
     "end_time": null,
     "exception": null,
     "start_time": null,
     "status": "pending"
    },
    "tags": []
   },
   "source": [
    "# Show y_train and y_train_pred"
   ]
  },
  {
   "cell_type": "code",
   "execution_count": null,
   "id": "43f01899",
   "metadata": {
    "execution": {
     "iopub.execute_input": "2022-11-29T13:41:39.224659Z",
     "iopub.status.busy": "2022-11-29T13:41:39.223932Z",
     "iopub.status.idle": "2022-11-29T13:41:39.618123Z",
     "shell.execute_reply": "2022-11-29T13:41:39.617128Z",
     "shell.execute_reply.started": "2022-11-29T13:41:39.224619Z"
    },
    "papermill": {
     "duration": null,
     "end_time": null,
     "exception": null,
     "start_time": null,
     "status": "pending"
    },
    "tags": []
   },
   "outputs": [],
   "source": [
    "y_bar=list(range(1,301))\n",
    "plt.scatter(y_bar,y_train,label='y_train')\n",
    "plt.scatter(y_bar,RandomForestRegressorModel.predict(X_train),label='y_pred')\n",
    "plt.title('y_train and y_train_pred')\n",
    "plt.legend()"
   ]
  },
  {
   "cell_type": "markdown",
   "id": "1985eff4",
   "metadata": {
    "papermill": {
     "duration": null,
     "end_time": null,
     "exception": null,
     "start_time": null,
     "status": "pending"
    },
    "tags": []
   },
   "source": [
    "# Show y_test and y_test_pred"
   ]
  },
  {
   "cell_type": "code",
   "execution_count": null,
   "id": "0d36a798",
   "metadata": {
    "execution": {
     "iopub.execute_input": "2022-11-29T13:42:48.061965Z",
     "iopub.status.busy": "2022-11-29T13:42:48.061523Z",
     "iopub.status.idle": "2022-11-29T13:42:48.412125Z",
     "shell.execute_reply": "2022-11-29T13:42:48.411102Z",
     "shell.execute_reply.started": "2022-11-29T13:42:48.061932Z"
    },
    "papermill": {
     "duration": null,
     "end_time": null,
     "exception": null,
     "start_time": null,
     "status": "pending"
    },
    "tags": []
   },
   "outputs": [],
   "source": [
    "y_bar=list(range(1,101))\n",
    "plt.scatter(y_bar,y_test,label='y_test')\n",
    "plt.scatter(y_bar,RandomForestRegressorModel.predict(X_test),label='y_pred')\n",
    "plt.title('y_test and y_test_pred')\n",
    "plt.legend()"
   ]
  },
  {
   "cell_type": "markdown",
   "id": "a7e036ad",
   "metadata": {
    "papermill": {
     "duration": null,
     "end_time": null,
     "exception": null,
     "start_time": null,
     "status": "pending"
    },
    "tags": []
   },
   "source": [
    "y_pred to csv"
   ]
  },
  {
   "cell_type": "code",
   "execution_count": null,
   "id": "e400e740",
   "metadata": {
    "execution": {
     "iopub.execute_input": "2022-11-29T13:43:35.285171Z",
     "iopub.status.busy": "2022-11-29T13:43:35.284722Z",
     "iopub.status.idle": "2022-11-29T13:43:35.305450Z",
     "shell.execute_reply": "2022-11-29T13:43:35.303821Z",
     "shell.execute_reply.started": "2022-11-29T13:43:35.285135Z"
    },
    "papermill": {
     "duration": null,
     "end_time": null,
     "exception": null,
     "start_time": null,
     "status": "pending"
    },
    "tags": []
   },
   "outputs": [],
   "source": [
    "submision=pd.DataFrame(y_pred,columns=['prediction'])\n",
    "submision.to_csv('/kaggle/working/prediction.csv')\n",
    "submision"
   ]
  }
 ],
 "metadata": {
  "kernelspec": {
   "display_name": "Python 3",
   "language": "python",
   "name": "python3"
  },
  "language_info": {
   "codemirror_mode": {
    "name": "ipython",
    "version": 3
   },
   "file_extension": ".py",
   "mimetype": "text/x-python",
   "name": "python",
   "nbconvert_exporter": "python",
   "pygments_lexer": "ipython3",
   "version": "3.7.12"
  },
  "papermill": {
   "default_parameters": {},
   "duration": 16.344143,
   "end_time": "2022-11-29T13:44:07.252805",
   "environment_variables": {},
   "exception": true,
   "input_path": "__notebook__.ipynb",
   "output_path": "__notebook__.ipynb",
   "parameters": {},
   "start_time": "2022-11-29T13:43:50.908662",
   "version": "2.3.4"
  }
 },
 "nbformat": 4,
 "nbformat_minor": 5
}
